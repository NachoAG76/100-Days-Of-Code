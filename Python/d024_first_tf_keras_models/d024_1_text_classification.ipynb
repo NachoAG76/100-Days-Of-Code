{
 "cells": [
  {
   "cell_type": "code",
   "execution_count": 1,
   "metadata": {},
   "outputs": [
    {
     "name": "stdout",
     "output_type": "stream",
     "text": [
      "1.9.0\n"
     ]
    }
   ],
   "source": [
    "import tensorflow as tf\n",
    "from tensorflow import keras\n",
    "\n",
    "import numpy as np\n",
    "\n",
    "print(tf.__version__)"
   ]
  },
  {
   "cell_type": "code",
   "execution_count": 2,
   "metadata": {},
   "outputs": [
    {
     "name": "stdout",
     "output_type": "stream",
     "text": [
      "Downloading data from https://s3.amazonaws.com/text-datasets/imdb.npz\n",
      "17465344/17464789 [==============================] - 2s 0us/step\n"
     ]
    }
   ],
   "source": [
    "imdb = keras.datasets.imdb\n",
    "\n",
    "(train_data, train_labels), (test_data, test_labels) = imdb.load_data(num_words=10000)"
   ]
  },
  {
   "cell_type": "markdown",
   "metadata": {},
   "source": [
    "The data is loaded with the 10,000 most common words. This doesn't use the more rare words, so that we can keep the data size manageable... recommended by the official tutorial."
   ]
  },
  {
   "cell_type": "code",
   "execution_count": 3,
   "metadata": {},
   "outputs": [
    {
     "name": "stdout",
     "output_type": "stream",
     "text": [
      "[1, 14, 22, 16, 43, 530, 973, 1622, 1385, 65, 458, 4468, 66, 3941, 4, 173, 36, 256, 5, 25, 100, 43, 838, 112, 50, 670, 2, 9, 35, 480, 284, 5, 150, 4, 172, 112, 167, 2, 336, 385, 39, 4, 172, 4536, 1111, 17, 546, 38, 13, 447, 4, 192, 50, 16, 6, 147, 2025, 19, 14, 22, 4, 1920, 4613, 469, 4, 22, 71, 87, 12, 16, 43, 530, 38, 76, 15, 13, 1247, 4, 22, 17, 515, 17, 12, 16, 626, 18, 2, 5, 62, 386, 12, 8, 316, 8, 106, 5, 4, 2223, 5244, 16, 480, 66, 3785, 33, 4, 130, 12, 16, 38, 619, 5, 25, 124, 51, 36, 135, 48, 25, 1415, 33, 6, 22, 12, 215, 28, 77, 52, 5, 14, 407, 16, 82, 2, 8, 4, 107, 117, 5952, 15, 256, 4, 2, 7, 3766, 5, 723, 36, 71, 43, 530, 476, 26, 400, 317, 46, 7, 4, 2, 1029, 13, 104, 88, 4, 381, 15, 297, 98, 32, 2071, 56, 26, 141, 6, 194, 7486, 18, 4, 226, 22, 21, 134, 476, 26, 480, 5, 144, 30, 5535, 18, 51, 36, 28, 224, 92, 25, 104, 4, 226, 65, 16, 38, 1334, 88, 12, 16, 283, 5, 16, 4472, 113, 103, 32, 15, 16, 5345, 19, 178, 32]\n"
     ]
    }
   ],
   "source": [
    "print(train_data[0])"
   ]
  },
  {
   "cell_type": "code",
   "execution_count": 4,
   "metadata": {},
   "outputs": [
    {
     "data": {
      "text/plain": [
       "(218, 189)"
      ]
     },
     "execution_count": 4,
     "metadata": {},
     "output_type": "execute_result"
    }
   ],
   "source": [
    "len(train_data[0]), len(train_data[1])"
   ]
  },
  {
   "cell_type": "code",
   "execution_count": 23,
   "metadata": {},
   "outputs": [],
   "source": [
    "word_dic = imdb.get_word_index()\n",
    "\n",
    "word_dic = {key: (v+3) for key,v in word_dic.items()} \n",
    "word_dic[\"<PAD>\"] = 0\n",
    "word_dic[\"<START>\"] = 1\n",
    "word_dic[\"<UNK>\"] = 2\n",
    "word_dic[\"<UNUSED>\"] = 3\n",
    "\n",
    "reverse_word_index = dict([(value, key) for (key, value) in word_dic.items()])\n",
    "\n",
    "def decode_review(text):\n",
    "    return ' '.join([reverse_word_index.get(i, \"?\") for i in text])"
   ]
  },
  {
   "cell_type": "code",
   "execution_count": 24,
   "metadata": {},
   "outputs": [
    {
     "data": {
      "text/plain": [
       "\"<START> this film was just brilliant casting location scenery story direction everyone's really suited the part they played and you could just imagine being there robert <UNK> is an amazing actor and now the same being director <UNK> father came from the same scottish island as myself so i loved the fact there was a real connection with this film the witty remarks throughout the film were great it was just brilliant so much that i bought the film as soon as it was released for <UNK> and would recommend it to everyone to watch and the fly fishing was amazing really cried at the end it was so sad and you know what they say if you cry at a film it must have been good and this definitely was also <UNK> to the two little boy's that played the <UNK> of norman and paul they were just brilliant children are often left out of the <UNK> list i think because the stars that play them all grown up are such a big profile for the whole film but these children are amazing and should be praised for what they have done don't you think the whole story was so lovely because it was true and was someone's life after all that was shared with us all\""
      ]
     },
     "execution_count": 24,
     "metadata": {},
     "output_type": "execute_result"
    }
   ],
   "source": [
    "decode_review(train_data[0])"
   ]
  },
  {
   "cell_type": "code",
   "execution_count": 25,
   "metadata": {},
   "outputs": [],
   "source": [
    "train_data = keras.preprocessing.sequence.pad_sequences(train_data,\n",
    "                                                        value=word_index[\"<PAD>\"],\n",
    "                                                        padding='post',\n",
    "                                                        maxlen=256)\n",
    "\n",
    "\n",
    "test_data = keras.preprocessing.sequence.pad_sequences(test_data,\n",
    "                                                       value=word_index[\"<PAD>\"],\n",
    "                                                       padding='post',\n",
    "                                                       maxlen=256)"
   ]
  },
  {
   "cell_type": "code",
   "execution_count": 26,
   "metadata": {},
   "outputs": [
    {
     "name": "stdout",
     "output_type": "stream",
     "text": [
      "[   1   14   22   16   43  530  973 1622 1385   65  458 4468   66 3941\n",
      "    4  173   36  256    5   25  100   43  838  112   50  670    2    9\n",
      "   35  480  284    5  150    4  172  112  167    2  336  385   39    4\n",
      "  172 4536 1111   17  546   38   13  447    4  192   50   16    6  147\n",
      " 2025   19   14   22    4 1920 4613  469    4   22   71   87   12   16\n",
      "   43  530   38   76   15   13 1247    4   22   17  515   17   12   16\n",
      "  626   18    2    5   62  386   12    8  316    8  106    5    4 2223\n",
      " 5244   16  480   66 3785   33    4  130   12   16   38  619    5   25\n",
      "  124   51   36  135   48   25 1415   33    6   22   12  215   28   77\n",
      "   52    5   14  407   16   82    2    8    4  107  117 5952   15  256\n",
      "    4    2    7 3766    5  723   36   71   43  530  476   26  400  317\n",
      "   46    7    4    2 1029   13  104   88    4  381   15  297   98   32\n",
      " 2071   56   26  141    6  194 7486   18    4  226   22   21  134  476\n",
      "   26  480    5  144   30 5535   18   51   36   28  224   92   25  104\n",
      "    4  226   65   16   38 1334   88   12   16  283    5   16 4472  113\n",
      "  103   32   15   16 5345   19  178   32    0    0    0    0    0    0\n",
      "    0    0    0    0    0    0    0    0    0    0    0    0    0    0\n",
      "    0    0    0    0    0    0    0    0    0    0    0    0    0    0\n",
      "    0    0    0    0]\n"
     ]
    }
   ],
   "source": [
    "print(train_data[0])"
   ]
  },
  {
   "cell_type": "code",
   "execution_count": 27,
   "metadata": {},
   "outputs": [
    {
     "name": "stdout",
     "output_type": "stream",
     "text": [
      "_________________________________________________________________\n",
      "Layer (type)                 Output Shape              Param #   \n",
      "=================================================================\n",
      "embedding (Embedding)        (None, None, 16)          160000    \n",
      "_________________________________________________________________\n",
      "global_average_pooling1d (Gl (None, 16)                0         \n",
      "_________________________________________________________________\n",
      "dense (Dense)                (None, 16)                272       \n",
      "_________________________________________________________________\n",
      "dense_1 (Dense)              (None, 1)                 17        \n",
      "=================================================================\n",
      "Total params: 160,289\n",
      "Trainable params: 160,289\n",
      "Non-trainable params: 0\n",
      "_________________________________________________________________\n"
     ]
    }
   ],
   "source": [
    "vocab_size = 10000\n",
    "\n",
    "model = keras.Sequential()\n",
    "model.add(keras.layers.Embedding(vocab_size, 16))\n",
    "model.add(keras.layers.GlobalAveragePooling1D())\n",
    "model.add(keras.layers.Dense(16, activation = tf.nn.relu))\n",
    "model.add(keras.layers.Dense(1, activation = tf.nn.sigmoid))\n",
    "\n",
    "model.summary()"
   ]
  },
  {
   "cell_type": "code",
   "execution_count": 28,
   "metadata": {},
   "outputs": [],
   "source": [
    "model.compile(optimizer=tf.train.AdamOptimizer(),\n",
    "              loss='binary_crossentropy',\n",
    "              metrics=['accuracy'])"
   ]
  },
  {
   "cell_type": "code",
   "execution_count": 29,
   "metadata": {},
   "outputs": [],
   "source": [
    "x_val = train_data[:10000]\n",
    "partial_x_train = train_data[10000:]\n",
    "\n",
    "y_val = train_labels[:10000]\n",
    "partial_y_train = train_labels[10000:]"
   ]
  },
  {
   "cell_type": "code",
   "execution_count": 30,
   "metadata": {},
   "outputs": [
    {
     "name": "stdout",
     "output_type": "stream",
     "text": [
      "Train on 15000 samples, validate on 10000 samples\n",
      "Epoch 1/40\n",
      "15000/15000 [==============================] - 1s 87us/step - loss: 0.6965 - acc: 0.5115 - val_loss: 0.6921 - val_acc: 0.5083\n",
      "Epoch 2/40\n",
      "15000/15000 [==============================] - 1s 57us/step - loss: 0.6912 - acc: 0.5485 - val_loss: 0.6904 - val_acc: 0.5785\n",
      "Epoch 3/40\n",
      "15000/15000 [==============================] - 1s 58us/step - loss: 0.6890 - acc: 0.6051 - val_loss: 0.6885 - val_acc: 0.5736\n",
      "Epoch 4/40\n",
      "15000/15000 [==============================] - 1s 95us/step - loss: 0.6864 - acc: 0.6345 - val_loss: 0.6859 - val_acc: 0.5854\n",
      "Epoch 5/40\n",
      "15000/15000 [==============================] - 1s 62us/step - loss: 0.6830 - acc: 0.6358 - val_loss: 0.6821 - val_acc: 0.6958\n",
      "Epoch 6/40\n",
      "15000/15000 [==============================] - 1s 68us/step - loss: 0.6786 - acc: 0.6962 - val_loss: 0.6773 - val_acc: 0.7012\n",
      "Epoch 7/40\n",
      "15000/15000 [==============================] - 1s 73us/step - loss: 0.6714 - acc: 0.6849 - val_loss: 0.6694 - val_acc: 0.6658\n",
      "Epoch 8/40\n",
      "15000/15000 [==============================] - 1s 60us/step - loss: 0.6606 - acc: 0.7099 - val_loss: 0.6584 - val_acc: 0.7016\n",
      "Epoch 9/40\n",
      "15000/15000 [==============================] - 1s 62us/step - loss: 0.6470 - acc: 0.7290 - val_loss: 0.6437 - val_acc: 0.7281\n",
      "Epoch 10/40\n",
      "15000/15000 [==============================] - 1s 74us/step - loss: 0.6279 - acc: 0.7511 - val_loss: 0.6235 - val_acc: 0.7417\n",
      "Epoch 11/40\n",
      "15000/15000 [==============================] - 1s 65us/step - loss: 0.6044 - acc: 0.7534 - val_loss: 0.6032 - val_acc: 0.7338\n",
      "Epoch 12/40\n",
      "15000/15000 [==============================] - 1s 63us/step - loss: 0.5782 - acc: 0.7708 - val_loss: 0.5754 - val_acc: 0.7659\n",
      "Epoch 13/40\n",
      "15000/15000 [==============================] - 1s 83us/step - loss: 0.5486 - acc: 0.7940 - val_loss: 0.5495 - val_acc: 0.7836\n",
      "Epoch 14/40\n",
      "15000/15000 [==============================] - 1s 58us/step - loss: 0.5186 - acc: 0.8080 - val_loss: 0.5213 - val_acc: 0.7972\n",
      "Epoch 15/40\n",
      "15000/15000 [==============================] - 1s 55us/step - loss: 0.4862 - acc: 0.8217 - val_loss: 0.4926 - val_acc: 0.8050\n",
      "Epoch 16/40\n",
      "15000/15000 [==============================] - 1s 72us/step - loss: 0.4559 - acc: 0.8346 - val_loss: 0.4647 - val_acc: 0.8234\n",
      "Epoch 17/40\n",
      "15000/15000 [==============================] - 1s 69us/step - loss: 0.4249 - acc: 0.8505 - val_loss: 0.4395 - val_acc: 0.8336\n",
      "Epoch 18/40\n",
      "15000/15000 [==============================] - 1s 65us/step - loss: 0.3976 - acc: 0.8616 - val_loss: 0.4167 - val_acc: 0.8405\n",
      "Epoch 19/40\n",
      "15000/15000 [==============================] - 1s 67us/step - loss: 0.3737 - acc: 0.8710 - val_loss: 0.3975 - val_acc: 0.8498\n",
      "Epoch 20/40\n",
      "15000/15000 [==============================] - 1s 70us/step - loss: 0.3523 - acc: 0.8775 - val_loss: 0.3813 - val_acc: 0.8555\n",
      "Epoch 21/40\n",
      "15000/15000 [==============================] - 1s 60us/step - loss: 0.3342 - acc: 0.8829 - val_loss: 0.3675 - val_acc: 0.8614\n",
      "Epoch 22/40\n",
      "15000/15000 [==============================] - 1s 60us/step - loss: 0.3181 - acc: 0.8889 - val_loss: 0.3560 - val_acc: 0.8643\n",
      "Epoch 23/40\n",
      "15000/15000 [==============================] - 1s 66us/step - loss: 0.3042 - acc: 0.8921 - val_loss: 0.3466 - val_acc: 0.8673\n",
      "Epoch 24/40\n",
      "15000/15000 [==============================] - 1s 70us/step - loss: 0.2915 - acc: 0.8981 - val_loss: 0.3381 - val_acc: 0.8682\n",
      "Epoch 25/40\n",
      "15000/15000 [==============================] - 1s 57us/step - loss: 0.2801 - acc: 0.9008 - val_loss: 0.3309 - val_acc: 0.8709\n",
      "Epoch 26/40\n",
      "15000/15000 [==============================] - 1s 58us/step - loss: 0.2698 - acc: 0.9044 - val_loss: 0.3255 - val_acc: 0.8728\n",
      "Epoch 27/40\n",
      "15000/15000 [==============================] - 1s 66us/step - loss: 0.2608 - acc: 0.9059 - val_loss: 0.3196 - val_acc: 0.8744\n",
      "Epoch 28/40\n",
      "15000/15000 [==============================] - 1s 63us/step - loss: 0.2516 - acc: 0.9099 - val_loss: 0.3146 - val_acc: 0.8762\n",
      "Epoch 29/40\n",
      "15000/15000 [==============================] - 1s 58us/step - loss: 0.2438 - acc: 0.9129 - val_loss: 0.3111 - val_acc: 0.8773\n",
      "Epoch 30/40\n",
      "15000/15000 [==============================] - 1s 56us/step - loss: 0.2372 - acc: 0.9145 - val_loss: 0.3071 - val_acc: 0.8783\n",
      "Epoch 31/40\n",
      "15000/15000 [==============================] - 1s 64us/step - loss: 0.2293 - acc: 0.9172 - val_loss: 0.3042 - val_acc: 0.8793\n",
      "Epoch 32/40\n",
      "15000/15000 [==============================] - 1s 60us/step - loss: 0.2232 - acc: 0.9198 - val_loss: 0.3014 - val_acc: 0.8808\n",
      "Epoch 33/40\n",
      "15000/15000 [==============================] - 1s 64us/step - loss: 0.2162 - acc: 0.9224 - val_loss: 0.2990 - val_acc: 0.8811\n",
      "Epoch 34/40\n",
      "15000/15000 [==============================] - 1s 70us/step - loss: 0.2103 - acc: 0.9251 - val_loss: 0.2978 - val_acc: 0.8809\n",
      "Epoch 35/40\n",
      "15000/15000 [==============================] - 1s 72us/step - loss: 0.2052 - acc: 0.9271 - val_loss: 0.2950 - val_acc: 0.8825\n",
      "Epoch 36/40\n",
      "15000/15000 [==============================] - 1s 69us/step - loss: 0.1992 - acc: 0.9291 - val_loss: 0.2935 - val_acc: 0.8828\n",
      "Epoch 37/40\n",
      "15000/15000 [==============================] - 1s 76us/step - loss: 0.1942 - acc: 0.9325 - val_loss: 0.2921 - val_acc: 0.8831\n",
      "Epoch 38/40\n",
      "15000/15000 [==============================] - 1s 66us/step - loss: 0.1893 - acc: 0.9333 - val_loss: 0.2915 - val_acc: 0.8828\n",
      "Epoch 39/40\n",
      "15000/15000 [==============================] - 1s 79us/step - loss: 0.1841 - acc: 0.9363 - val_loss: 0.2900 - val_acc: 0.8837\n",
      "Epoch 40/40\n",
      "15000/15000 [==============================] - 1s 67us/step - loss: 0.1796 - acc: 0.9389 - val_loss: 0.2892 - val_acc: 0.8842\n"
     ]
    }
   ],
   "source": [
    "history = model.fit(partial_x_train,\n",
    "                    partial_y_train,\n",
    "                    epochs=40,\n",
    "                    batch_size=512,\n",
    "                    validation_data=(x_val, y_val),\n",
    "                    verbose=1)"
   ]
  },
  {
   "cell_type": "code",
   "execution_count": 31,
   "metadata": {},
   "outputs": [
    {
     "name": "stdout",
     "output_type": "stream",
     "text": [
      "25000/25000 [==============================] - 1s 41us/step\n",
      "[0.30284984535217285, 0.87616]\n"
     ]
    },
    {
     "data": {
      "text/plain": [
       "dict_keys(['val_loss', 'val_acc', 'loss', 'acc'])"
      ]
     },
     "execution_count": 31,
     "metadata": {},
     "output_type": "execute_result"
    }
   ],
   "source": [
    "results = model.evaluate(test_data, test_labels)\n",
    "\n",
    "print(results)\n",
    "\n",
    "history_dict = history.history\n",
    "history_dict.keys()"
   ]
  },
  {
   "cell_type": "code",
   "execution_count": 33,
   "metadata": {},
   "outputs": [
    {
     "data": {
      "text/plain": [
       "<matplotlib.legend.Legend at 0x130a71518>"
      ]
     },
     "execution_count": 33,
     "metadata": {},
     "output_type": "execute_result"
    },
    {
     "data": {
      "image/png": "[encoded data removed]",
      "text/plain": [
       "<Figure size 432x288 with 1 Axes>"
      ]
     },
     "metadata": {},
     "output_type": "display_data"
    }
   ],
   "source": [
    "import matplotlib.pyplot as plt\n",
    "\n",
    "acc = history.history['acc']\n",
    "val_acc = history.history['val_acc']\n",
    "loss = history.history['loss']\n",
    "val_loss = history.history['val_loss']\n",
    "\n",
    "epochs = range(1, len(acc) + 1)\n",
    "\n",
    "plt.plot(epochs, loss, 'bo', label = 'Training loss')\n",
    "plt.plot(epochs, val_loss, 'b', label = 'Validation loss')\n",
    "plt.title('Training and validation loss')\n",
    "plt.xlabel('Epochs')\n",
    "plt.ylabel('Loss')\n",
    "plt.legend()\n"
   ]
  },
  {
   "cell_type": "code",
   "execution_count": 34,
   "metadata": {},
   "outputs": [
    {
     "data": {
      "image/png": "[encoded data removed]",
      "text/plain": [
       "<Figure size 432x288 with 1 Axes>"
      ]
     },
     "metadata": {},
     "output_type": "display_data"
    }
   ],
   "source": [
    "plt.figure()\n",
    "acc_values = history_dict['acc']\n",
    "val_acc_values = history_dict['val_acc']\n",
    "\n",
    "plt.plot(epochs, acc, 'bo', label = 'Training acc')\n",
    "plt.plot(epochs, val_acc, 'b', label = 'Validation acc')\n",
    "plt.title('Training and validation accuracy')\n",
    "plt.xlabel('Epochs')\n",
    "plt.ylabel('Accuracy')\n",
    "plt.legend()\n",
    "\n",
    "plt.show()"
   ]
  }
 ],
 "metadata": {
  "kernelspec": {
   "display_name": "Python 3",
   "language": "python",
   "name": "python3"
  },
  "language_info": {
   "codemirror_mode": {
    "name": "ipython",
    "version": 3
   },
   "file_extension": ".py",
   "mimetype": "text/x-python",
   "name": "python",
   "nbconvert_exporter": "python",
   "pygments_lexer": "ipython3",
   "version": "3.6.6"
  }
 },
 "nbformat": 4,
 "nbformat_minor": 2
}
